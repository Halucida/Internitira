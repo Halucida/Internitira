{
  "nbformat": 4,
  "nbformat_minor": 0,
  "metadata": {
    "colab": {
      "provenance": [],
      "authorship_tag": "ABX9TyO/pYWy1uK6GoPYKrIKQOV3"
    },
    "kernelspec": {
      "name": "python3",
      "display_name": "Python 3"
    },
    "language_info": {
      "name": "python"
    }
  },
  "cells": [
    {
      "cell_type": "code",
      "execution_count": 1,
      "metadata": {
        "id": "L-hIcAMLrQ3B"
      },
      "outputs": [],
      "source": [
        "# !pip install -q stop-words\n",
        "\n",
        "import csv\n",
        "import tensorflow as tf\n",
        "\n",
        "from tensorflow.keras.utils import pad_sequences\n",
        "\n",
        "from Helper import *"
      ]
    },
    {
      "cell_type": "code",
      "source": [
        "path = \"/tmp/bbc-text.csv\"\n",
        "\n",
        "t = []; l = []\n",
        "\n",
        "with open(path, \"r\") as fileread:\n",
        "  reader = csv.reader(fileread, delimiter=\",\")\n",
        "  next(reader)\n",
        "  for r in reader:\n",
        "    l.append(r[0])\n",
        "    t.append(stopper(r[1]))\n",
        "\n",
        "len(t), len(l)"
      ],
      "metadata": {
        "colab": {
          "base_uri": "https://localhost:8080/"
        },
        "id": "mqfHhiPnsBV9",
        "outputId": "8f949e89-24fa-4848-b4ca-0276646387b2"
      },
      "execution_count": 2,
      "outputs": [
        {
          "output_type": "execute_result",
          "data": {
            "text/plain": [
              "(2225, 2225)"
            ]
          },
          "metadata": {},
          "execution_count": 2
        }
      ]
    },
    {
      "cell_type": "code",
      "source": [
        "train_split = 0.8\n",
        "\n",
        "lt = int(train_split * len(t))\n",
        "\n",
        "train = t[:lt]; testi = t[lt:]\n",
        "\n",
        "len(train), len(testi)"
      ],
      "metadata": {
        "colab": {
          "base_uri": "https://localhost:8080/"
        },
        "id": "a-rs7ueVx3RD",
        "outputId": "26bc6fb0-1768-47e7-bf80-00487f0fe249"
      },
      "execution_count": 3,
      "outputs": [
        {
          "output_type": "execute_result",
          "data": {
            "text/plain": [
              "(1780, 445)"
            ]
          },
          "metadata": {},
          "execution_count": 3
        }
      ]
    },
    {
      "cell_type": "code",
      "source": [
        "train_label = l[:lt]; testi_label = l[lt:]\n",
        "\n",
        "len(train_label), len(testi_label)"
      ],
      "metadata": {
        "colab": {
          "base_uri": "https://localhost:8080/"
        },
        "id": "3MW-YGqNyPgy",
        "outputId": "c3b553fb-2d72-4cda-da87-c5537186ddfe"
      },
      "execution_count": 4,
      "outputs": [
        {
          "output_type": "execute_result",
          "data": {
            "text/plain": [
              "(1780, 445)"
            ]
          },
          "metadata": {},
          "execution_count": 4
        }
      ]
    },
    {
      "cell_type": "code",
      "source": [
        "token = fit_tokener(train, 1000, \"<OOV>\")\n",
        "\n",
        "ti = token.word_index\n",
        "\n",
        "len(ti)"
      ],
      "metadata": {
        "id": "xXt82Cp0yt52",
        "outputId": "6429a762-b278-4dba-e3a8-c78c08429d44",
        "colab": {
          "base_uri": "https://localhost:8080/"
        }
      },
      "execution_count": 5,
      "outputs": [
        {
          "output_type": "execute_result",
          "data": {
            "text/plain": [
              "27284"
            ]
          },
          "metadata": {},
          "execution_count": 5
        }
      ]
    },
    {
      "cell_type": "code",
      "source": [
        "def padded(sentences, token, padding, maxlen):\n",
        "  i = token.texts_to_sequences(sentences)\n",
        "  i = pad_sequences(i, maxlen=maxlen, padding=padding)\n",
        "  return i\n",
        "\n",
        "train = padded(train, token, \"post\", 120)\n",
        "\n",
        "train.shape"
      ],
      "metadata": {
        "id": "zT5O6hM6z16y",
        "outputId": "9d69cf32-3a55-428c-ecf4-ebf9b3bc061d",
        "colab": {
          "base_uri": "https://localhost:8080/"
        }
      },
      "execution_count": 6,
      "outputs": [
        {
          "output_type": "execute_result",
          "data": {
            "text/plain": [
              "(1780, 120)"
            ]
          },
          "metadata": {},
          "execution_count": 6
        }
      ]
    },
    {
      "cell_type": "code",
      "source": [
        "testi = padded(testi, token, \"post\", 120)\n",
        "\n",
        "testi.shape"
      ],
      "metadata": {
        "id": "Kanj-5f12GB4",
        "outputId": "4ad0349d-8350-4c73-b6a6-37a51466d8d3",
        "colab": {
          "base_uri": "https://localhost:8080/"
        }
      },
      "execution_count": 7,
      "outputs": [
        {
          "output_type": "execute_result",
          "data": {
            "text/plain": [
              "(445, 120)"
            ]
          },
          "metadata": {},
          "execution_count": 7
        }
      ]
    },
    {
      "cell_type": "code",
      "source": [
        "import numpy as np\n",
        "\n",
        "def label_token(all, split):\n",
        "  lt = Tokenizer()\n",
        "  lt.fit_on_texts(all)\n",
        "  label_seq = lt.texts_to_sequences(split)\n",
        "  result = np.array(label_seq) - 1\n",
        "  return result\n",
        "\n",
        "train_l = label_token(l, train_label)\n",
        "\n",
        "list(train_l[:5])"
      ],
      "metadata": {
        "id": "Xf45jqhT2oqe",
        "outputId": "50400f1f-f8c9-4694-875f-92034cebd7b2",
        "colab": {
          "base_uri": "https://localhost:8080/"
        }
      },
      "execution_count": 8,
      "outputs": [
        {
          "output_type": "execute_result",
          "data": {
            "text/plain": [
              "[array([3]), array([1]), array([0]), array([0]), array([4])]"
            ]
          },
          "metadata": {},
          "execution_count": 8
        }
      ]
    },
    {
      "cell_type": "code",
      "source": [
        "testi_l = label_token(l, testi_label)\n",
        "\n",
        "list(testi_l[:5])"
      ],
      "metadata": {
        "id": "b-bTFnlS5iL8",
        "outputId": "048434bf-5231-4bbe-81a6-4b50ad25c91e",
        "colab": {
          "base_uri": "https://localhost:8080/"
        }
      },
      "execution_count": 9,
      "outputs": [
        {
          "output_type": "execute_result",
          "data": {
            "text/plain": [
              "[array([4]), array([3]), array([2]), array([0]), array([0])]"
            ]
          },
          "metadata": {},
          "execution_count": 9
        }
      ]
    },
    {
      "cell_type": "code",
      "source": [
        "from tensorflow.keras import layers\n",
        "\n",
        "x = layers.Embedding(1000, 16, input_length=120)\n",
        "\n",
        "i = x(train)\n",
        "\n",
        "i.shape"
      ],
      "metadata": {
        "id": "K3fAoskG6JPJ",
        "outputId": "5fddf89a-14b4-413c-fb12-2211a5ac1a5d",
        "colab": {
          "base_uri": "https://localhost:8080/"
        }
      },
      "execution_count": 10,
      "outputs": [
        {
          "output_type": "execute_result",
          "data": {
            "text/plain": [
              "TensorShape([1780, 120, 16])"
            ]
          },
          "metadata": {},
          "execution_count": 10
        }
      ]
    },
    {
      "cell_type": "code",
      "source": [
        "i[0][0].numpy()"
      ],
      "metadata": {
        "id": "_tJHqn8S7bJj",
        "outputId": "1d450392-b51c-4d1f-a79d-8cd1d0b24fd6",
        "colab": {
          "base_uri": "https://localhost:8080/"
        }
      },
      "execution_count": 11,
      "outputs": [
        {
          "output_type": "execute_result",
          "data": {
            "text/plain": [
              "array([-0.00325422,  0.00261511, -0.01418906, -0.04071516, -0.00706217,\n",
              "       -0.01953771,  0.04606614, -0.03638284,  0.04723959,  0.01349563,\n",
              "        0.00644062, -0.02367474, -0.01062205,  0.02102679,  0.01827529,\n",
              "       -0.01350601], dtype=float32)"
            ]
          },
          "metadata": {},
          "execution_count": 11
        }
      ]
    },
    {
      "cell_type": "code",
      "source": [
        "i[0][0].numpy().mean()"
      ],
      "metadata": {
        "id": "KOObRsX14mwm",
        "outputId": "6f4d1d9d-1650-4f6a-81cd-432c2266093c",
        "colab": {
          "base_uri": "https://localhost:8080/"
        }
      },
      "execution_count": 12,
      "outputs": [
        {
          "output_type": "execute_result",
          "data": {
            "text/plain": [
              "-0.0008615501"
            ]
          },
          "metadata": {},
          "execution_count": 12
        }
      ]
    },
    {
      "cell_type": "code",
      "source": [
        "i[1][0].numpy().mean()"
      ],
      "metadata": {
        "id": "1sjUoB4t6ABR",
        "outputId": "cf0506e9-c843-44b5-8d3e-12dc08cdd7ae",
        "colab": {
          "base_uri": "https://localhost:8080/"
        }
      },
      "execution_count": 13,
      "outputs": [
        {
          "output_type": "execute_result",
          "data": {
            "text/plain": [
              "0.0115881115"
            ]
          },
          "metadata": {},
          "execution_count": 13
        }
      ]
    },
    {
      "cell_type": "code",
      "source": [
        "x = layers.GlobalAveragePooling1D()\n",
        "\n",
        "i = x(i)\n",
        "\n",
        "i.shape"
      ],
      "metadata": {
        "id": "Ma_48Yvl63se",
        "outputId": "dd53a211-415e-4773-eb1e-3b0258f4ca6e",
        "colab": {
          "base_uri": "https://localhost:8080/"
        }
      },
      "execution_count": 14,
      "outputs": [
        {
          "output_type": "execute_result",
          "data": {
            "text/plain": [
              "TensorShape([1780, 16])"
            ]
          },
          "metadata": {},
          "execution_count": 14
        }
      ]
    },
    {
      "cell_type": "code",
      "source": [
        "i[0].numpy()"
      ],
      "metadata": {
        "id": "H9jrT6Jv7e2H",
        "outputId": "b9bdf44b-61fd-4d58-aa84-b8e5cf55e22a",
        "colab": {
          "base_uri": "https://localhost:8080/"
        }
      },
      "execution_count": 15,
      "outputs": [
        {
          "output_type": "execute_result",
          "data": {
            "text/plain": [
              "array([-0.01379436,  0.01266018, -0.00956842, -0.00896214,  0.00519044,\n",
              "        0.00338324,  0.01240792,  0.01691397, -0.00876355, -0.00129155,\n",
              "       -0.00841337,  0.00691035,  0.02139853, -0.01746516, -0.00574047,\n",
              "        0.01504128], dtype=float32)"
            ]
          },
          "metadata": {},
          "execution_count": 15
        }
      ]
    },
    {
      "cell_type": "code",
      "source": [
        "i[1].numpy()"
      ],
      "metadata": {
        "id": "nb3MsF0n6DsR",
        "outputId": "c763b97c-992f-4403-c1ab-7a2524d91794",
        "colab": {
          "base_uri": "https://localhost:8080/"
        }
      },
      "execution_count": 16,
      "outputs": [
        {
          "output_type": "execute_result",
          "data": {
            "text/plain": [
              "array([-0.02364091,  0.01094848, -0.01201959, -0.00567404,  0.00686344,\n",
              "        0.00447548,  0.01557768,  0.02097865, -0.01039583,  0.00046095,\n",
              "       -0.00791535,  0.00907364,  0.0260924 , -0.02299085,  0.00158765,\n",
              "        0.01745329], dtype=float32)"
            ]
          },
          "metadata": {},
          "execution_count": 16
        }
      ]
    },
    {
      "cell_type": "code",
      "source": [
        "x = layers.Dense(24, activation=\"relu\")\n",
        "\n",
        "i = x(i)\n",
        "\n",
        "i.shape"
      ],
      "metadata": {
        "id": "MuLOgsre7ine",
        "outputId": "0d53ca8a-b625-4117-9f76-065eb001772f",
        "colab": {
          "base_uri": "https://localhost:8080/"
        }
      },
      "execution_count": 17,
      "outputs": [
        {
          "output_type": "execute_result",
          "data": {
            "text/plain": [
              "TensorShape([1780, 24])"
            ]
          },
          "metadata": {},
          "execution_count": 17
        }
      ]
    },
    {
      "cell_type": "code",
      "source": [
        "i[0].numpy()"
      ],
      "metadata": {
        "id": "emJFSdTS7zAO",
        "outputId": "fa1796a8-b67b-4e10-90d8-99d6759c96d4",
        "colab": {
          "base_uri": "https://localhost:8080/"
        }
      },
      "execution_count": 18,
      "outputs": [
        {
          "output_type": "execute_result",
          "data": {
            "text/plain": [
              "array([0.        , 0.01311627, 0.        , 0.        , 0.        ,\n",
              "       0.        , 0.        , 0.00157289, 0.        , 0.01665939,\n",
              "       0.01526596, 0.00094323, 0.01612446, 0.        , 0.        ,\n",
              "       0.01945109, 0.00470434, 0.        , 0.02337977, 0.01040706,\n",
              "       0.00013561, 0.00246948, 0.        , 0.02204542], dtype=float32)"
            ]
          },
          "metadata": {},
          "execution_count": 18
        }
      ]
    },
    {
      "cell_type": "code",
      "source": [
        "x = layers.Dense(5, activation=\"softmax\")\n",
        "\n",
        "i = x(i)\n",
        "\n",
        "i.shape"
      ],
      "metadata": {
        "id": "Mx5ua5aY71VB",
        "outputId": "7f2362a1-126e-4627-f665-bddb3674ec5c",
        "colab": {
          "base_uri": "https://localhost:8080/"
        }
      },
      "execution_count": 19,
      "outputs": [
        {
          "output_type": "execute_result",
          "data": {
            "text/plain": [
              "TensorShape([1780, 5])"
            ]
          },
          "metadata": {},
          "execution_count": 19
        }
      ]
    },
    {
      "cell_type": "code",
      "source": [
        "i[0].numpy()"
      ],
      "metadata": {
        "id": "mwR2rzvo795i",
        "outputId": "370cf521-146e-461c-cb1d-3af0030e55a9",
        "colab": {
          "base_uri": "https://localhost:8080/"
        }
      },
      "execution_count": 20,
      "outputs": [
        {
          "output_type": "execute_result",
          "data": {
            "text/plain": [
              "array([0.20167449, 0.20311934, 0.19818482, 0.19624476, 0.20077653],\n",
              "      dtype=float32)"
            ]
          },
          "metadata": {},
          "execution_count": 20
        }
      ]
    },
    {
      "cell_type": "code",
      "source": [
        "model = tf.keras.models.Sequential([\n",
        "    layers.Embedding(1000, 16, input_length=120),\n",
        "    layers.GlobalAveragePooling1D(),\n",
        "    layers.Dense(24, activation=\"relu\"),\n",
        "    layers.Dense(5, activation=\"softmax\")\n",
        "])\n",
        "\n",
        "model.compile(optimizer=\"adam\", loss=\"sparse_categorical_crossentropy\", metrics=[\"accuracy\"])\n",
        "\n",
        "hist = model.fit(train, train_l, validation_data=(testi, testi_l), epochs=10)"
      ],
      "metadata": {
        "id": "uw-63O-38vpv"
      },
      "execution_count": null,
      "outputs": []
    }
  ]
}