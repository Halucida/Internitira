{
  "nbformat": 4,
  "nbformat_minor": 0,
  "metadata": {
    "colab": {
      "provenance": [],
      "authorship_tag": "ABX9TyObnx4PoqYFhA1Tcvgi7yWj"
    },
    "kernelspec": {
      "name": "python3",
      "display_name": "Python 3"
    },
    "language_info": {
      "name": "python"
    }
  },
  "cells": [
    {
      "cell_type": "code",
      "execution_count": 1,
      "metadata": {
        "id": "L-hIcAMLrQ3B"
      },
      "outputs": [],
      "source": [
        "!pip install -q stop-words\n",
        "\n",
        "import csv\n",
        "import tensorflow as tf\n",
        "\n",
        "from tensorflow.keras.utils import pad_sequences\n",
        "\n",
        "from Helper import *"
      ]
    },
    {
      "cell_type": "code",
      "source": [
        "path = \"/tmp/bbc-text.csv\"\n",
        "\n",
        "t = []; l = []\n",
        "\n",
        "with open(path, \"r\") as fileread:\n",
        "  reader = csv.reader(fileread, delimiter=\",\")\n",
        "  next(reader)\n",
        "  for r in reader:\n",
        "    l.append(r[0])\n",
        "    t.append(stopper(r[1]))\n",
        "\n",
        "len(t), len(l)"
      ],
      "metadata": {
        "colab": {
          "base_uri": "https://localhost:8080/"
        },
        "id": "mqfHhiPnsBV9",
        "outputId": "dace59ac-d9d5-491e-b316-54a4f1bd36e2"
      },
      "execution_count": 2,
      "outputs": [
        {
          "output_type": "execute_result",
          "data": {
            "text/plain": [
              "(2225, 2225)"
            ]
          },
          "metadata": {},
          "execution_count": 2
        }
      ]
    },
    {
      "cell_type": "code",
      "source": [
        "train_split = 0.8\n",
        "\n",
        "lt = int(train_split * len(t))\n",
        "\n",
        "train = t[:lt]; testi = t[lt:]\n",
        "\n",
        "len(train), len(testi)"
      ],
      "metadata": {
        "colab": {
          "base_uri": "https://localhost:8080/"
        },
        "id": "a-rs7ueVx3RD",
        "outputId": "b55f54be-4141-49a9-bbb3-ba4fbe801efc"
      },
      "execution_count": 3,
      "outputs": [
        {
          "output_type": "execute_result",
          "data": {
            "text/plain": [
              "(1780, 445)"
            ]
          },
          "metadata": {},
          "execution_count": 3
        }
      ]
    },
    {
      "cell_type": "code",
      "source": [
        "train_label = l[:lt]; testi_label = l[lt:]\n",
        "\n",
        "len(train_label), len(testi_label)"
      ],
      "metadata": {
        "colab": {
          "base_uri": "https://localhost:8080/"
        },
        "id": "3MW-YGqNyPgy",
        "outputId": "8f7e253e-0ff7-4b67-8d23-7e76427bc2da"
      },
      "execution_count": 4,
      "outputs": [
        {
          "output_type": "execute_result",
          "data": {
            "text/plain": [
              "(1780, 445)"
            ]
          },
          "metadata": {},
          "execution_count": 4
        }
      ]
    },
    {
      "cell_type": "code",
      "source": [
        "token = fit_tokener(train, 1000, \"<OOV>\")\n",
        "\n",
        "ti = token.word_index\n",
        "\n",
        "len(ti)"
      ],
      "metadata": {
        "id": "xXt82Cp0yt52",
        "outputId": "e270552a-ab36-40a8-ca5d-90bfc4910a4d",
        "colab": {
          "base_uri": "https://localhost:8080/"
        }
      },
      "execution_count": 5,
      "outputs": [
        {
          "output_type": "execute_result",
          "data": {
            "text/plain": [
              "27284"
            ]
          },
          "metadata": {},
          "execution_count": 5
        }
      ]
    },
    {
      "cell_type": "code",
      "source": [
        "def padded(sentences, token, padding, maxlen):\n",
        "  i = token.texts_to_sequences(sentences)\n",
        "  i = pad_sequences(i, maxlen=maxlen, padding=padding)\n",
        "  return i\n",
        "\n",
        "train = padded(train, token, \"post\", 120)\n",
        "\n",
        "train.shape"
      ],
      "metadata": {
        "id": "zT5O6hM6z16y",
        "outputId": "19025989-c69b-47a8-f30f-c6091504304f",
        "colab": {
          "base_uri": "https://localhost:8080/"
        }
      },
      "execution_count": 6,
      "outputs": [
        {
          "output_type": "execute_result",
          "data": {
            "text/plain": [
              "(1780, 120)"
            ]
          },
          "metadata": {},
          "execution_count": 6
        }
      ]
    },
    {
      "cell_type": "code",
      "source": [
        "testi = padded(testi, token, \"post\", 120)\n",
        "\n",
        "testi.shape"
      ],
      "metadata": {
        "id": "Kanj-5f12GB4",
        "outputId": "573a14d9-effe-4b4c-90b8-fe5758ac9f83",
        "colab": {
          "base_uri": "https://localhost:8080/"
        }
      },
      "execution_count": 7,
      "outputs": [
        {
          "output_type": "execute_result",
          "data": {
            "text/plain": [
              "(445, 120)"
            ]
          },
          "metadata": {},
          "execution_count": 7
        }
      ]
    },
    {
      "cell_type": "code",
      "source": [
        "import numpy as np\n",
        "\n",
        "train_l = label_token(l, train_label)\n",
        "\n",
        "list(train_l[:5])"
      ],
      "metadata": {
        "id": "Xf45jqhT2oqe",
        "outputId": "34679645-0db5-4bb0-d69a-2e17a7403144",
        "colab": {
          "base_uri": "https://localhost:8080/"
        }
      },
      "execution_count": 8,
      "outputs": [
        {
          "output_type": "execute_result",
          "data": {
            "text/plain": [
              "[array([3]), array([1]), array([0]), array([0]), array([4])]"
            ]
          },
          "metadata": {},
          "execution_count": 8
        }
      ]
    },
    {
      "cell_type": "code",
      "source": [
        "testi_l = label_token(l, testi_label)\n",
        "\n",
        "list(testi_l[:5])"
      ],
      "metadata": {
        "id": "b-bTFnlS5iL8",
        "outputId": "a1569755-b883-41ca-9f3e-302dd5085ecf",
        "colab": {
          "base_uri": "https://localhost:8080/"
        }
      },
      "execution_count": 9,
      "outputs": [
        {
          "output_type": "execute_result",
          "data": {
            "text/plain": [
              "[array([4]), array([3]), array([2]), array([0]), array([0])]"
            ]
          },
          "metadata": {},
          "execution_count": 9
        }
      ]
    },
    {
      "cell_type": "code",
      "source": [
        "from tensorflow.keras import layers\n",
        "\n",
        "x = layers.Embedding(1000, 16, input_length=120)\n",
        "\n",
        "i = x(train)\n",
        "\n",
        "i.shape"
      ],
      "metadata": {
        "id": "K3fAoskG6JPJ",
        "outputId": "359d8727-3594-4a14-9db9-c223aa102d00",
        "colab": {
          "base_uri": "https://localhost:8080/"
        }
      },
      "execution_count": 10,
      "outputs": [
        {
          "output_type": "execute_result",
          "data": {
            "text/plain": [
              "TensorShape([1780, 120, 16])"
            ]
          },
          "metadata": {},
          "execution_count": 10
        }
      ]
    },
    {
      "cell_type": "code",
      "source": [
        "i[0][0].numpy()"
      ],
      "metadata": {
        "id": "_tJHqn8S7bJj",
        "outputId": "f8c2ad85-80a0-444a-9ce3-919fff68fb68",
        "colab": {
          "base_uri": "https://localhost:8080/"
        }
      },
      "execution_count": 11,
      "outputs": [
        {
          "output_type": "execute_result",
          "data": {
            "text/plain": [
              "array([ 0.04200289,  0.01208641, -0.01187801, -0.02834591, -0.04824691,\n",
              "        0.03452631, -0.03215799,  0.03466899, -0.03453075, -0.03526612,\n",
              "        0.02393228, -0.0112816 ,  0.03788682,  0.02059729,  0.0224699 ,\n",
              "       -0.03688762], dtype=float32)"
            ]
          },
          "metadata": {},
          "execution_count": 11
        }
      ]
    },
    {
      "cell_type": "code",
      "source": [
        "x = layers.GlobalAveragePooling1D()\n",
        "\n",
        "i = x(i)\n",
        "\n",
        "i.shape"
      ],
      "metadata": {
        "id": "Ma_48Yvl63se",
        "outputId": "b425866d-d78e-4c71-841e-76ab6ea8da5b",
        "colab": {
          "base_uri": "https://localhost:8080/"
        }
      },
      "execution_count": 12,
      "outputs": [
        {
          "output_type": "execute_result",
          "data": {
            "text/plain": [
              "TensorShape([1780, 16])"
            ]
          },
          "metadata": {},
          "execution_count": 12
        }
      ]
    },
    {
      "cell_type": "code",
      "source": [
        "i[0].numpy()"
      ],
      "metadata": {
        "id": "H9jrT6Jv7e2H",
        "outputId": "4b25c076-8e41-4565-ee45-effa833d181a",
        "colab": {
          "base_uri": "https://localhost:8080/"
        }
      },
      "execution_count": 13,
      "outputs": [
        {
          "output_type": "execute_result",
          "data": {
            "text/plain": [
              "array([ 1.03247128e-02,  2.07103949e-04,  1.72305547e-04,  2.43480280e-02,\n",
              "        9.20056459e-03, -2.82033434e-04,  1.48089109e-02, -1.97983030e-02,\n",
              "        5.46928728e-03,  3.41562321e-03, -1.61590776e-03,  1.01777259e-02,\n",
              "        1.05725685e-02, -5.89051597e-05,  1.55249881e-02,  1.81227122e-02],\n",
              "      dtype=float32)"
            ]
          },
          "metadata": {},
          "execution_count": 13
        }
      ]
    },
    {
      "cell_type": "code",
      "source": [
        "x = layers.Dense(24, activation=\"relu\")\n",
        "\n",
        "i = x(i)\n",
        "\n",
        "i.shape"
      ],
      "metadata": {
        "id": "MuLOgsre7ine",
        "outputId": "8ab220f4-f854-4563-baa1-4db7437caac7",
        "colab": {
          "base_uri": "https://localhost:8080/"
        }
      },
      "execution_count": 14,
      "outputs": [
        {
          "output_type": "execute_result",
          "data": {
            "text/plain": [
              "TensorShape([1780, 24])"
            ]
          },
          "metadata": {},
          "execution_count": 14
        }
      ]
    },
    {
      "cell_type": "code",
      "source": [
        "i[0].numpy()"
      ],
      "metadata": {
        "id": "emJFSdTS7zAO",
        "outputId": "3ef86f35-62e4-4564-a8cc-fba1ba5618ed",
        "colab": {
          "base_uri": "https://localhost:8080/"
        }
      },
      "execution_count": 15,
      "outputs": [
        {
          "output_type": "execute_result",
          "data": {
            "text/plain": [
              "array([0.00340762, 0.00828225, 0.        , 0.00146747, 0.01604233,\n",
              "       0.02093033, 0.00439863, 0.        , 0.00441225, 0.        ,\n",
              "       0.02237348, 0.        , 0.        , 0.01000328, 0.003477  ,\n",
              "       0.00118908, 0.00798261, 0.01728036, 0.        , 0.01330486,\n",
              "       0.        , 0.        , 0.        , 0.        ], dtype=float32)"
            ]
          },
          "metadata": {},
          "execution_count": 15
        }
      ]
    },
    {
      "cell_type": "code",
      "source": [
        "x = layers.Dense(5, activation=\"softmax\")\n",
        "\n",
        "i = x(i)\n",
        "\n",
        "i.shape"
      ],
      "metadata": {
        "id": "Mx5ua5aY71VB",
        "outputId": "f471250e-9a4b-4167-f5d7-ff8f91f2ab80",
        "colab": {
          "base_uri": "https://localhost:8080/"
        }
      },
      "execution_count": 16,
      "outputs": [
        {
          "output_type": "execute_result",
          "data": {
            "text/plain": [
              "TensorShape([1780, 5])"
            ]
          },
          "metadata": {},
          "execution_count": 16
        }
      ]
    },
    {
      "cell_type": "code",
      "source": [
        "i[0].numpy()"
      ],
      "metadata": {
        "id": "mwR2rzvo795i",
        "outputId": "e4c2bbaa-8c9f-4506-f20d-e3dc7f30b27e",
        "colab": {
          "base_uri": "https://localhost:8080/"
        }
      },
      "execution_count": 17,
      "outputs": [
        {
          "output_type": "execute_result",
          "data": {
            "text/plain": [
              "array([0.20206475, 0.1989861 , 0.1974947 , 0.20081858, 0.20063578],\n",
              "      dtype=float32)"
            ]
          },
          "metadata": {},
          "execution_count": 17
        }
      ]
    },
    {
      "cell_type": "code",
      "source": [
        "model = tf.keras.models.Sequential([\n",
        "    layers.Embedding(1000, 16, input_length=120),\n",
        "    layers.GlobalAveragePooling1D(),\n",
        "    layers.Dense(24, activation=\"relu\"),\n",
        "    layers.Dense(5, activation=\"softmax\")\n",
        "])\n",
        "\n",
        "model.compile(optimizer=\"adam\", loss=\"sparse_categorical_crossentropy\", metrics=[\"accuracy\"])\n",
        "\n",
        "hist = model.fit(train, train_l, validation_data=(testi, testi_l), epochs=10)"
      ],
      "metadata": {
        "id": "uw-63O-38vpv"
      },
      "execution_count": null,
      "outputs": []
    }
  ]
}